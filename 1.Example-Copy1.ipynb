{
 "cells": [
  {
   "cell_type": "markdown",
   "metadata": {},
   "source": [
    "<font size=10><mark>UAV年终考核(2020)</mark></font>\n",
    ">### 1. 程序题<mark>1到10</mark>，单句语句实现分值`9分`or 多语句 `7分`\n",
    ">### 2. 最后一道应用题10分\n",
    "\n",
    "### 说明：\n",
    "1. **在试卷上手写**\n",
    "2. **在电脑上完成程序功能**\n",
    "---------------------"
   ]
  },
  {
   "cell_type": "markdown",
   "metadata": {},
   "source": [
    "## Q0：用代码实现 a = 128,b = 512 变量值交换"
   ]
  },
  {
   "cell_type": "markdown",
   "metadata": {},
   "source": [
    "## Q1：用代码实现找到 x = 1024,y = 256 最大值？"
   ]
  },
  {
   "cell_type": "markdown",
   "metadata": {},
   "source": [
    "## Q2：用代码实现将列表 [[1,2],[3,4],[5,6]] 转换为 [1,2,3,4,5,6]"
   ]
  },
  {
   "cell_type": "markdown",
   "metadata": {},
   "source": [
    "## Q3：用代码实现将字符串 '123,456,789' 转换为 ['123','456','789']"
   ]
  },
  {
   "cell_type": "markdown",
   "metadata": {},
   "source": [
    "## Q4：用代码实现将列表 [1,2,3,4,5] 转换为 ['1','2','3','4','5']"
   ]
  },
  {
   "cell_type": "markdown",
   "metadata": {},
   "source": [
    "## Q5：用代码实现将列表 [[1,2],[3,4],[5,6]] 转换为 [[1,3,5],[2,4,6]]"
   ]
  },
  {
   "cell_type": "markdown",
   "metadata": {},
   "source": [
    "## Q6：用代码实现将列表 [[1,2,3],[4,5,6]] 转换为 [1,2,3,4,5,6] "
   ]
  },
  {
   "cell_type": "markdown",
   "metadata": {},
   "source": [
    "## Q7：用一句代码`或者` 用函数 实现找到q = 10086,w = 10010,e = 10000最小值"
   ]
  },
  {
   "cell_type": "markdown",
   "metadata": {},
   "source": [
    "## Q8：用一句代码 `或者`  用函数 实现生成1-100之间的偶数列表"
   ]
  },
  {
   "cell_type": "markdown",
   "metadata": {},
   "source": [
    "## Q9：用一句代码 `或者`  用函数 实现生成1-100之间的奇数列表"
   ]
  },
  {
   "cell_type": "markdown",
   "metadata": {},
   "source": [
    "## Q10:购物车程序\n",
    "\n",
    "### 功能：\n",
    "1. 输入余额\n",
    "2. 显示商品列表\n",
    "3. 输入要购买的东西\n",
    "4. 判断是否有能力购买\n",
    "5. 是否继续\n",
    "6. 输出已购买的商品和余额"
   ]
  }
 ],
 "metadata": {
  "kernelspec": {
   "display_name": "Python 3",
   "language": "python",
   "name": "python3"
  },
  "language_info": {
   "codemirror_mode": {
    "name": "ipython",
    "version": 3
   },
   "file_extension": ".py",
   "mimetype": "text/x-python",
   "name": "python",
   "nbconvert_exporter": "python",
   "pygments_lexer": "ipython3",
   "version": "3.7.4"
  },
  "pycharm": {
   "stem_cell": {
    "cell_type": "raw",
    "metadata": {
     "collapsed": false
    },
    "source": []
   }
  }
 },
 "nbformat": 4,
 "nbformat_minor": 2
}
